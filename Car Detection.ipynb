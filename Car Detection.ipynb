{
 "cells": [
  {
   "cell_type": "code",
   "execution_count": 5,
   "metadata": {},
   "outputs": [],
   "source": [
    "import numpy as np\n",
    "import cv2\n",
    "import time"
   ]
  },
  {
   "cell_type": "code",
   "execution_count": 10,
   "metadata": {},
   "outputs": [],
   "source": [
    "car = 'cascades/haarcascade_car.xml'\n",
    "car_classifier = cv2.CascadeClassifier(car)\n",
    "cap = cv2.VideoCapture('data/cars.avi')\n",
    "\n",
    "while cap.isOpened():\n",
    "    \n",
    "    response, frame = cap.read()\n",
    "    if response:\n",
    "        gray = cv2.cvtColor(frame, cv2.COLOR_BGR2GRAY)\n",
    "        cars = car_classifier.detectMultiScale(gray, 1.2, 3)\n",
    "        \n",
    "        for (x,y,w,h) in cars:\n",
    "            cv2.rectangle(frame, (x,y), (x+w, y+h), (0,0,0), 3)\n",
    "            cv2.imshow('Cars', frame)\n",
    "            \n",
    "        if cv2.waitKey(0) & 0xFF == ord('q'):\n",
    "            break\n",
    "        else:\n",
    "            break\n",
    "            \n",
    "cap.release()\n",
    "cv2.destroyAllWindows()"
   ]
  },
  {
   "cell_type": "code",
   "execution_count": null,
   "metadata": {},
   "outputs": [],
   "source": []
  }
 ],
 "metadata": {
  "kernelspec": {
   "display_name": "Python 3",
   "language": "python",
   "name": "python3"
  },
  "language_info": {
   "codemirror_mode": {
    "name": "ipython",
    "version": 3
   },
   "file_extension": ".py",
   "mimetype": "text/x-python",
   "name": "python",
   "nbconvert_exporter": "python",
   "pygments_lexer": "ipython3",
   "version": "3.7.6"
  }
 },
 "nbformat": 4,
 "nbformat_minor": 4
}
