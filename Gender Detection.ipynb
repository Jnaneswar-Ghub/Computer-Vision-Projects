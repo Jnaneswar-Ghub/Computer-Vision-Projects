{
 "cells": [
  {
   "cell_type": "code",
   "execution_count": 2,
   "metadata": {},
   "outputs": [],
   "source": [
    "import numpy as np\n",
    "import matplotlib.pyplot as plt\n",
    "import cv2\n",
    "import cvlib as cv\n",
    "import sys\n",
    "from numpy.lib.type_check import imag"
   ]
  },
  {
   "cell_type": "code",
   "execution_count": 4,
   "metadata": {},
   "outputs": [],
   "source": [
    "cam = cv2.VideoCapture(0)\n",
    "padding = 20\n",
    "\n",
    "while cam.isOpened():\n",
    "    status, frame = cam.read()\n",
    "    face, confidence = cv.detect_face(frame)\n",
    "    \n",
    "    for idx, f in enumerate(face):\n",
    "        (x1, y1) = max(0, f[0]-padding), max(0, f[1]-padding)\n",
    "        (x2, y2) = min(frame.shape[1]-1, f[2]+padding), min(frame.shape[0]-1, f[3]+padding)\n",
    "        cv2.rectangle(frame, (x1, y1), (x2, y2), (0,0,255), 2)\n",
    "        face_crop = np.copy(frame[y1:y2, x1:x2])\n",
    "        (label, confidence) = cv.detect_gender(face_crop)\n",
    "        idx = np.argmax(confidence)\n",
    "        label = label[idx]\n",
    "        label = '{}: {:.2f}%'. format(label, confidence[idx]*100)\n",
    "        y = y1 - 10 if y1 - 10 > 10 else y1 + 10\n",
    "        cv2.putText(frame, label, (x1,y), cv2.FONT_HERSHEY_COMPLEX, 0.7, (0,0,255), 2)\n",
    "        cv2.imshow('Gender Detection', frame)\n",
    "        \n",
    "    if cv2.waitKey(1) & 0xFF == ord('q'):\n",
    "        break\n",
    "            \n",
    "cam.release()\n",
    "cv2.destroyAllWindows()"
   ]
  },
  {
   "cell_type": "code",
   "execution_count": null,
   "metadata": {},
   "outputs": [],
   "source": []
  }
 ],
 "metadata": {
  "kernelspec": {
   "display_name": "Python 3",
   "language": "python",
   "name": "python3"
  },
  "language_info": {
   "codemirror_mode": {
    "name": "ipython",
    "version": 3
   },
   "file_extension": ".py",
   "mimetype": "text/x-python",
   "name": "python",
   "nbconvert_exporter": "python",
   "pygments_lexer": "ipython3",
   "version": "3.7.6"
  }
 },
 "nbformat": 4,
 "nbformat_minor": 4
}
